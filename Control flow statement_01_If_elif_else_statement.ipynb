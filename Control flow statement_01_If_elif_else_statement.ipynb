{
 "cells": [
  {
   "cell_type": "markdown",
   "id": "f003d990",
   "metadata": {},
   "source": [
    "# If statement\n",
    "\n",
    "The if statement is the simplest form of decision control statement that is frequently used in decision making. an if statement is a selection control statement based on the value of a given boolean expression.\n"
   ]
  },
  {
   "cell_type": "markdown",
   "id": "813721af",
   "metadata": {},
   "source": [
    "\n",
    "syntax\n",
    "\n",
    "if test_expression:\n",
    "\n",
    "    statement1\n",
    "    \n",
    "    --------\n",
    "    \n",
    "    statement n\n",
    "statement x\n"
   ]
  },
  {
   "cell_type": "code",
   "execution_count": 4,
   "id": "30b978ad",
   "metadata": {},
   "outputs": [
    {
     "name": "stdout",
     "output_type": "stream",
     "text": [
      "Enter the age: 10\n"
     ]
    }
   ],
   "source": [
    "#write a program to determine whether a persion is eligible to vote\n",
    "\n",
    "age = int(input(\"Enter the age: \"))\n",
    "if age>=18:\n",
    "    print(\"You are eligible for vote\")\n",
    "    \n"
   ]
  },
  {
   "cell_type": "markdown",
   "id": "9d6ae991",
   "metadata": {},
   "source": [
    "# If-else statement\n",
    "\n",
    "We have studied that using if statement plays a vital role in conditional branching. Its use is very simple.\n",
    "The test expression is evaluated and if the result is true, the statement followed by the expression is executed, else if the expression is False, the statement is skipped by the compiler.\n",
    "\n",
    "But what if you want a seprate set of statements to be executed when the expression returns a zero value?\n",
    "\n",
    "In such cases, we use an if-else statement rather than using simple if statemnet.\n",
    "\n",
    "## Syntax of If-else statement\n",
    "\n",
    "if (test_expression):\n",
    "    \n",
    "    statement block 1\n",
    "    \n",
    "else:\n",
    "\n",
    "    statement block 2\n",
    "    \n",
    "statement x"
   ]
  },
  {
   "cell_type": "code",
   "execution_count": 6,
   "id": "91789ef7",
   "metadata": {},
   "outputs": [],
   "source": [
    "#write a program to determine whether a persion is eligible to vote or not. \n",
    "#If he is not eligible, display how many years are left to be eligible."
   ]
  },
  {
   "cell_type": "code",
   "execution_count": 3,
   "id": "6239b931",
   "metadata": {},
   "outputs": [
    {
     "name": "stdout",
     "output_type": "stream",
     "text": [
      "enter your age: 10\n",
      "You have to wait for another8 years to cast your vote \n"
     ]
    }
   ],
   "source": [
    "age = int(input(\"enter your age: \"))\n",
    "\n",
    "if age>=18:\n",
    "    print(\"you are eligible to vote\")\n",
    "else:\n",
    "    yers = 18 - age\n",
    "    print(\"You have to wait for another \" + str(yers) + \" years to cast your vote \")"
   ]
  },
  {
   "cell_type": "code",
   "execution_count": 4,
   "id": "0c5aadd0",
   "metadata": {},
   "outputs": [],
   "source": [
    "# Write a program to find larger of two numbers.\n",
    "\n"
   ]
  },
  {
   "cell_type": "code",
   "execution_count": 5,
   "id": "239a098c",
   "metadata": {},
   "outputs": [
    {
     "name": "stdout",
     "output_type": "stream",
     "text": [
      "Enter the first number: 23\n",
      "enter the second number: 30\n",
      "Large =  30\n"
     ]
    }
   ],
   "source": [
    "num1 = int(input(\"Enter the first number: \"))\n",
    "num2 = int(input('enter the second number: '))\n",
    "\n",
    "if num1>num2:\n",
    "    large = num1\n",
    "else:\n",
    "    large = num2\n",
    "print(\"Large = \", large)"
   ]
  },
  {
   "cell_type": "code",
   "execution_count": 6,
   "id": "76a11b5c",
   "metadata": {},
   "outputs": [],
   "source": [
    "# write a program to find wheter the given number is even or odd."
   ]
  },
  {
   "cell_type": "code",
   "execution_count": 7,
   "id": "4bdb2bc8",
   "metadata": {},
   "outputs": [
    {
     "name": "stdout",
     "output_type": "stream",
     "text": [
      "Enter the number: 20\n",
      "20 is even number\n"
     ]
    }
   ],
   "source": [
    "num = int(input(\"Enter the number: \"))\n",
    "if (num%2 == 0):\n",
    "    print(num, \"is even number\")\n",
    "    \n",
    "else:\n",
    "    print(num, \"is odd number\")"
   ]
  },
  {
   "cell_type": "markdown",
   "id": "040da5b5",
   "metadata": {},
   "source": [
    "write a program to enter any character. If the enterd character is in lowercase then convert it into uppercase and if it is an uppercase character, \n",
    "then convert it into lowercase."
   ]
  },
  {
   "cell_type": "code",
   "execution_count": 8,
   "id": "55906ae8",
   "metadata": {},
   "outputs": [
    {
     "name": "stdout",
     "output_type": "stream",
     "text": [
      "Enter any character :ravi\n",
      "The enterd characterd is in lowercase. In uppercase it is: RAVI\n"
     ]
    }
   ],
   "source": [
    "char = input(\"Enter any character :\")\n",
    "\n",
    "if (char >= 'A' and char<= 'Z'):\n",
    "    char = char.lower()\n",
    "    print(\" The enterd charecter is in uppercase. In lowercase it is: \" + char)\n",
    "else:\n",
    "    char = char.upper()\n",
    "    print(\"The enterd characterd is in lowercase. In uppercase it is: \" + char)"
   ]
  },
  {
   "cell_type": "code",
   "execution_count": null,
   "id": "6aa581df",
   "metadata": {},
   "outputs": [],
   "source": []
  },
  {
   "cell_type": "markdown",
   "id": "7024edde",
   "metadata": {},
   "source": [
    "A company decides to give bonus to all its employees on Diwali. A 5% bonus on salary is given to the male workers and 10% bonus on salary to the female workers.\n",
    "write a program to enter the salary of the employees and sex of the employees. If the salary of the employee is less than 10000 then the employee gets an extra 2% bonus on salary.\n",
    "calculate the bonus that has to be given to the employee and display the salary that the employee will get."
   ]
  },
  {
   "cell_type": "code",
   "execution_count": null,
   "id": "999fc555",
   "metadata": {},
   "outputs": [],
   "source": [
    "ch = input(\"Enter the sex of the employee ( m or d): \")\n",
    "sal = int(input(\"Enter the salary of the employee: \"))\n",
    "\n",
    "if (ch==m):\n",
    "    bonus = 0.05*sal\n",
    "elif (ch==m and sal<10000):\n",
    "    bonus = bonus+0.02\n",
    "else:\n",
    "    bonus = 0.10*sal  "
   ]
  },
  {
   "cell_type": "markdown",
   "id": "0ce9846d",
   "metadata": {},
   "source": [
    "# Nested if Statement\n",
    "\n",
    "## Syntax of if-elif-else statement\n",
    "\n",
    "if (test_expression 1):\n",
    "\n",
    "    statement block 1\n",
    "    \n",
    "elif (test expression 2):\n",
    "\n",
    "    statement block 2\n",
    "    \n",
    "    -----------\n",
    "    \n",
    "elif (test_expression N):\n",
    "\n",
    "    statement block N\n",
    "    \n",
    "else:\n",
    "\n",
    "    statement block X\n",
    "    \n",
    "Statement Y\n"
   ]
  },
  {
   "cell_type": "code",
   "execution_count": 3,
   "id": "d6684b63",
   "metadata": {},
   "outputs": [
    {
     "name": "stdout",
     "output_type": "stream",
     "text": [
      "Enter the any character :c\n",
      "c  is not a vowel\n"
     ]
    }
   ],
   "source": [
    "#Write a program to determine whether the character entered is a vowel or not.\n",
    "\n",
    "ch = input(\"Enter the any character :\")\n",
    "if (ch==\"A\" or ch==\"E\" or ch==\"I\" or ch==\"O\" or ch==\"U\"):\n",
    "    print(ch, \"is a Vowel\")\n",
    "    \n",
    "elif (ch==\"a\" or ch==\"e\" or ch==\"i\" or ch==\"o\" or ch==\"u\"):\n",
    "    print(ch, 'is a vowel')\n",
    "    \n",
    "else:\n",
    "    print(ch, \" is not a vowel\")\n",
    "    "
   ]
  },
  {
   "cell_type": "code",
   "execution_count": 4,
   "id": "6921b236",
   "metadata": {},
   "outputs": [
    {
     "name": "stdout",
     "output_type": "stream",
     "text": [
      "Enter any number between 1 to 7 4\n",
      "Wednesday\n"
     ]
    }
   ],
   "source": [
    "#write a program that prompts the users to enter a number between 1-7 and then display the corresponding days of the week.\n",
    "\n",
    "\n",
    "num = int(input(\"Enter any number between 1 to 7 \"))\n",
    "if (num==1):\n",
    "    print(\"sunday\")\n",
    "elif (num==2):\n",
    "    print(\"monday\")\n",
    "elif (num==3):\n",
    "    print(\"Tuesday\")\n",
    "elif (num==4):\n",
    "    print(\"Wednesday\")\n",
    "elif (num==5):\n",
    "    print(\"Thursday\")\n",
    "elif (num==6):\n",
    "    print(\"Friday\")\n",
    "elif (num==7):\n",
    "    print(\"Saturday\")\n",
    "else:\n",
    "    print(\"wrong input\")"
   ]
  },
  {
   "cell_type": "code",
   "execution_count": null,
   "id": "ce7a3934",
   "metadata": {},
   "outputs": [],
   "source": [
    "\"\"\" write a program to calculate tax given the following coditions:\n",
    "\n",
    "If income is less than 1,50,000 then no tax\n",
    "If taxable income is 1,50,001 - 300,000 then charge 10% tax\n",
    "If taxable income is 300,001 - 500,000 then charge 20%  tax\n",
    "If taxable income is above 5,00,001 then charge 30% tax\n",
    "\"\"\"\n",
    "\n",
    "MIN1 = 150001\n",
    "MAX1 = 300000\n",
    "ROI = 0.10\n",
    "MIN2 = 300001\n",
    "MAX2 = 500000\n",
    "ROI = 0.20\n",
    "MIN3 = 500001\n",
    "ROI =30%\n",
    "\n",
    "Income = int(input(\"Enter the income: \"))\n",
    "tax_income = income-150000\n",
    "if (tax_income <=0):\n",
    "    print(\"No tax\")\n",
    "elif (tax_income >= MIN1 and tax_income<=300000):\n",
    "    \n"
   ]
  }
 ],
 "metadata": {
  "kernelspec": {
   "display_name": "Python 3",
   "language": "python",
   "name": "python3"
  },
  "language_info": {
   "codemirror_mode": {
    "name": "ipython",
    "version": 3
   },
   "file_extension": ".py",
   "mimetype": "text/x-python",
   "name": "python",
   "nbconvert_exporter": "python",
   "pygments_lexer": "ipython3",
   "version": "3.8.8"
  }
 },
 "nbformat": 4,
 "nbformat_minor": 5
}
